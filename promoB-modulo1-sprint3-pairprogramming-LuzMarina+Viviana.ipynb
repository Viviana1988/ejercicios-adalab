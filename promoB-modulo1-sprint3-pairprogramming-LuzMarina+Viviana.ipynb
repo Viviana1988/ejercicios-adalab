{
 "cells": [
  {
   "cell_type": "code",
   "execution_count": 6,
   "metadata": {},
   "outputs": [
    {
     "name": "stdout",
     "output_type": "stream",
     "text": [
      "es verdadero\n"
     ]
    }
   ],
   "source": [
    "numero1 = int(input())\n",
    "\n",
    "\n",
    "if numero1 < 2:\n",
    "    print(\"es verdadero\")\n",
    "\n",
    "else:\n",
    "    print(\"es falso\")"
   ]
  },
  {
   "cell_type": "code",
   "execution_count": 10,
   "metadata": {},
   "outputs": [
    {
     "name": "stdout",
     "output_type": "stream",
     "text": [
      "impar\n"
     ]
    }
   ],
   "source": [
    "numero2 = int(input())\n",
    "\n",
    "if numero2 == 4:\n",
    "    print(\"par\")\n",
    "\n",
    "else:\n",
    "    print(\"impar\")"
   ]
  },
  {
   "cell_type": "code",
   "execution_count": 12,
   "metadata": {},
   "outputs": [
    {
     "name": "stdout",
     "output_type": "stream",
     "text": [
      "aprueba\n"
     ]
    }
   ],
   "source": [
    "calificacion_estudiante = int(input())\n",
    "\n",
    "if calificacion_estudiante >= 60:\n",
    "    print(\"aprueba\")\n",
    "\n",
    "else:\n",
    "    print(\"suspende\")"
   ]
  },
  {
   "cell_type": "code",
   "execution_count": 15,
   "metadata": {},
   "outputs": [
    {
     "name": "stdout",
     "output_type": "stream",
     "text": [
      "maximo\n"
     ]
    }
   ],
   "source": [
    "numero3 = 1000\n",
    "numero4 = 50\n",
    "\n",
    "if numero3 >= 1000:\n",
    "    print(\"maximo\")\n",
    "\n",
    "else:\n",
    "    print(\"minimo\")\n"
   ]
  },
  {
   "cell_type": "code",
   "execution_count": 17,
   "metadata": {},
   "outputs": [
    {
     "name": "stdout",
     "output_type": "stream",
     "text": [
      "consonante\n"
     ]
    }
   ],
   "source": [
    "letra1 = (\"v\")\n",
    "\n",
    "if letra1 == (\"v\"):\n",
    "    print(\"consonante\")\n",
    "\n",
    "else: \n",
    "    print(\"vocal\")"
   ]
  },
  {
   "cell_type": "code",
   "execution_count": 18,
   "metadata": {},
   "outputs": [
    {
     "name": "stdout",
     "output_type": "stream",
     "text": [
      "descuento 10%\n"
     ]
    }
   ],
   "source": [
    "monto_compra = 500\n",
    "\n",
    "if monto_compra >= 100:\n",
    "    print(\"descuento 10%\")\n",
    "\n",
    "else:\n",
    "    print(\"no tiene descuento\")"
   ]
  },
  {
   "cell_type": "code",
   "execution_count": 19,
   "metadata": {},
   "outputs": [
    {
     "name": "stdout",
     "output_type": "stream",
     "text": [
      "año bisiesto\n"
     ]
    }
   ],
   "source": [
    "año_nacimiento = 1992\n",
    "\n",
    "if año_nacimiento ** 4:\n",
    "    print(\"año bisiesto\")\n",
    "\n",
    "else: \n",
    "    print(\"año no bisiesto\")"
   ]
  },
  {
   "cell_type": "code",
   "execution_count": 26,
   "metadata": {},
   "outputs": [
    {
     "name": "stdout",
     "output_type": "stream",
     "text": [
      "menor de edad\n"
     ]
    }
   ],
   "source": [
    "edad = 12\n",
    "\n",
    "if edad < 18:\n",
    "    print (\"menor de edad\")\n",
    "\n",
    "elif edad < 64:\n",
    "    print (\"eres adulto\")\n",
    "\n",
    "else:\n",
    "    print (\"adulto mayor\")"
   ]
  },
  {
   "cell_type": "code",
   "execution_count": null,
   "metadata": {},
   "outputs": [],
   "source": [
    "#teorema de pitagoras (queremos una señora)\n"
   ]
  },
  {
   "cell_type": "code",
   "execution_count": null,
   "metadata": {},
   "outputs": [],
   "source": []
  }
 ],
 "metadata": {
  "kernelspec": {
   "display_name": "Python 3",
   "language": "python",
   "name": "python3"
  },
  "language_info": {
   "codemirror_mode": {
    "name": "ipython",
    "version": 3
   },
   "file_extension": ".py",
   "mimetype": "text/x-python",
   "name": "python",
   "nbconvert_exporter": "python",
   "pygments_lexer": "ipython3",
   "version": "3.9.6"
  }
 },
 "nbformat": 4,
 "nbformat_minor": 2
}
