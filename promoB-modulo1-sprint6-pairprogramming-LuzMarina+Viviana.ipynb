{
 "cells": [
  {
   "cell_type": "code",
   "execution_count": 6,
   "metadata": {},
   "outputs": [
    {
     "ename": "TypeError",
     "evalue": "__init__() missing 1 required positional argument: 'herramientas'",
     "output_type": "error",
     "traceback": [
      "\u001b[0;31m---------------------------------------------------------------------------\u001b[0m",
      "\u001b[0;31mTypeError\u001b[0m                                 Traceback (most recent call last)",
      "Cell \u001b[0;32mIn[6], line 17\u001b[0m\n\u001b[1;32m     12\u001b[0m         \u001b[38;5;28;01mreturn\u001b[39;00m (\u001b[38;5;124mf\u001b[39m\u001b[38;5;124m\"\u001b[39m\u001b[38;5;124mel nombre se llama \u001b[39m\u001b[38;5;132;01m{\u001b[39;00m\u001b[38;5;28mself\u001b[39m\u001b[38;5;241m.\u001b[39mnombre\u001b[38;5;132;01m}\u001b[39;00m\u001b[38;5;124m trabaja en la posicion \u001b[39m\u001b[38;5;132;01m{\u001b[39;00m\u001b[38;5;28mself\u001b[39m\u001b[38;5;241m.\u001b[39mposicion\u001b[38;5;132;01m}\u001b[39;00m\u001b[38;5;124m desde hace \u001b[39m\u001b[38;5;132;01m{\u001b[39;00m\u001b[38;5;28mself\u001b[39m\u001b[38;5;241m.\u001b[39maños\u001b[38;5;132;01m}\u001b[39;00m\u001b[38;5;124m y le quedan \u001b[39m\u001b[38;5;132;01m{\u001b[39;00m\u001b[38;5;28mself\u001b[39m\u001b[38;5;241m.\u001b[39mvacaciones\u001b[38;5;132;01m}\u001b[39;00m\u001b[38;5;124m\"\u001b[39m)\n\u001b[1;32m     15\u001b[0m empleado1 \u001b[38;5;241m=\u001b[39m Empleados(\u001b[38;5;124m\"\u001b[39m\u001b[38;5;124mManuel\u001b[39m\u001b[38;5;124m\"\u001b[39m,\u001b[38;5;124m\"\u001b[39m\u001b[38;5;124mVelasco\u001b[39m\u001b[38;5;124m\"\u001b[39m,\u001b[38;5;241m35\u001b[39m,\u001b[38;5;124m\"\u001b[39m\u001b[38;5;124mGerente\u001b[39m\u001b[38;5;124m\"\u001b[39m,\u001b[38;5;241m2020\u001b[39m,\u001b[38;5;124m\"\u001b[39m\u001b[38;5;124m25 dias\u001b[39m\u001b[38;5;124m\"\u001b[39m, \u001b[38;5;124m\"\u001b[39m\u001b[38;5;124mordenador\u001b[39m\u001b[38;5;124m\"\u001b[39m)\n\u001b[0;32m---> 17\u001b[0m empleado2 \u001b[38;5;241m=\u001b[39m \u001b[43mEmpleados\u001b[49m\u001b[43m(\u001b[49m\u001b[38;5;124;43m\"\u001b[39;49m\u001b[38;5;124;43mLuzma\u001b[39;49m\u001b[38;5;124;43m\"\u001b[39;49m\u001b[43m,\u001b[49m\u001b[43m \u001b[49m\u001b[38;5;124;43m\"\u001b[39;49m\u001b[38;5;124;43mHernandez\u001b[39;49m\u001b[38;5;124;43m\"\u001b[39;49m\u001b[43m,\u001b[49m\u001b[43m \u001b[49m\u001b[38;5;241;43m30\u001b[39;49m\u001b[43m,\u001b[49m\u001b[43m \u001b[49m\u001b[38;5;124;43m\"\u001b[39;49m\u001b[38;5;124;43mSociologa\u001b[39;49m\u001b[38;5;124;43m\"\u001b[39;49m\u001b[43m,\u001b[49m\u001b[43m \u001b[49m\u001b[38;5;241;43m10\u001b[39;49m\u001b[43m,\u001b[49m\u001b[43m \u001b[49m\u001b[38;5;241;43m1\u001b[39;49m\u001b[43m)\u001b[49m\n\u001b[1;32m     19\u001b[0m \u001b[38;5;28mprint\u001b[39m(empleado1\u001b[38;5;241m.\u001b[39mdescripcion())\n\u001b[1;32m     20\u001b[0m \u001b[38;5;28mprint\u001b[39m(empleado2\u001b[38;5;241m.\u001b[39mdescripcion())\n",
      "\u001b[0;31mTypeError\u001b[0m: __init__() missing 1 required positional argument: 'herramientas'"
     ]
    }
   ],
   "source": [
    "class Empleados: \n",
    "    def __init__(self,nombre,apellidos,edad,posicion,años,vacaciones,herramientas):\n",
    "        self.nombre = nombre\n",
    "        self.apellidos = apellidos\n",
    "        self.edad = edad\n",
    "        self.posicion = posicion\n",
    "        self.años = años\n",
    "        self.vacaciones = vacaciones\n",
    "        self.herramientas = herramientas\n",
    "\n",
    "    def descripcion(self):\n",
    "        return (f\"el nombre se llama {self.nombre} trabaja en la posicion {self.posicion} desde hace {self.años} y le quedan {self.vacaciones}\")\n",
    "    \n",
    "    \n",
    "empleado1 = Empleados(\"Manuel\",\"Velasco\",35,\"Gerente\",2020,\"25 dias\", \"ordenador\")\n",
    "\n",
    "empleado2 = Empleados(\"Luzma\", \"Hernandez\", 30, \"Sociologa\", 10, 1)\n",
    "\n",
    "print(empleado1.descripcion())\n",
    "print(empleado2.descripcion())"
   ]
  },
  {
   "cell_type": "code",
   "execution_count": 20,
   "metadata": {},
   "outputs": [
    {
     "name": "stdout",
     "output_type": "stream",
     "text": [
      "<function nombre_empleado at 0x1088edca0> <function posicion_empleado at 0x1088edee0> <function año_empleado at 0x1088ed0d0>\n"
     ]
    }
   ],
   "source": [
    "def __init__(self,nombre,apellidos,edad,posicion,año,vacaciones,herramienta):\n",
    "        self.nombre = nombre\n",
    "        self.apellido = apellidos\n",
    "        self.edad = edad\n",
    "        self.posicion = posicion\n",
    "        self.año = año\n",
    "        self.vacaciones = vacaciones\n",
    "        self.herramienta = herramienta\n",
    "\n",
    "def nombre_empleado (self):\n",
    "  \n",
    "    return f\"el nombre del empleado es {self.nombre}\"\n",
    "\n",
    "def posicion_empleado (self):\n",
    "      \n",
    "      return f\"la posicion del empleado es {self.posicion}\"\n",
    "\n",
    "def año_empleado (self):\n",
    "    \n",
    "      return f\"años de incoporación del empleado es {self.posicion}\"\n",
    "\n",
    "print (nombre_empleado,posicion_empleado,año_empleado)"
   ]
  }
 ],
 "metadata": {
  "kernelspec": {
   "display_name": "Python 3",
   "language": "python",
   "name": "python3"
  },
  "language_info": {
   "codemirror_mode": {
    "name": "ipython",
    "version": 3
   },
   "file_extension": ".py",
   "mimetype": "text/x-python",
   "name": "python",
   "nbconvert_exporter": "python",
   "pygments_lexer": "ipython3",
   "version": "3.9.6"
  }
 },
 "nbformat": 4,
 "nbformat_minor": 2
}
